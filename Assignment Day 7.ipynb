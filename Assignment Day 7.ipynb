{
 "cells": [
  {
   "cell_type": "markdown",
   "metadata": {},
   "source": [
    "# Assignment Day 7"
   ]
  },
  {
   "cell_type": "markdown",
   "metadata": {},
   "source": [
    "## Ans: Create a YouTube video downloader"
   ]
  },
  {
   "cell_type": "code",
   "execution_count": 1,
   "metadata": {},
   "outputs": [],
   "source": [
    "from tkinter import *\n",
    "import pytube\n",
    "\n",
    "#Functions\n",
    "def download():\n",
    "    video_url=url.get()\n",
    "    try:\n",
    "        youtube=pytube.YouTube(video_url)\n",
    "        video=youtube.streams.first()\n",
    "        video.download(\"C:/Users/acer/Downloads\")\n",
    "        notif.config(fg=\"green\", text=\"Video downloaded successfully\")\n",
    "\n",
    "    except Exception as e:\n",
    "        print(e)\n",
    "        notif.config(fg=\"red\", text=\"Video could not be download\")\n",
    "        \n",
    "    \n",
    "#Main screen\n",
    "root=Tk()\n",
    "root.title(\"Syed Bilal's Youtube downloader\")\n",
    "\n",
    "#Labels\n",
    "Label(root, text=\"Youtube Downloader\", fg=\"blue\", font=(\"Verdana\",15)).grid(sticky=N, padx=100, row=0) \n",
    "Label(root, text=\"Please Enter the youtube link:\", font=(\"Verdana\",12)).grid(sticky=N, pady=15, row=1)\n",
    "notif=Label(root, font=(\"Verdana\",12))\n",
    "notif.grid(sticky=N, pady=1, row=4)\n",
    "\n",
    "#vars\n",
    "url=StringVar()\n",
    "\n",
    "#Entry\n",
    "Entry (root, width=50, textvariable=url).grid(sticky=N,row=2)\n",
    "\n",
    "#Buttons\n",
    "Button (root, width=20, text=\"Download\",font=(\"Verdana\",12), command=download).grid(sticky=N, pady=15, row=3)\n",
    "\n",
    "\n",
    "root.mainloop()"
   ]
  },
  {
   "cell_type": "code",
   "execution_count": null,
   "metadata": {},
   "outputs": [],
   "source": []
  }
 ],
 "metadata": {
  "kernelspec": {
   "display_name": "Python 3",
   "language": "python",
   "name": "python3"
  },
  "language_info": {
   "codemirror_mode": {
    "name": "ipython",
    "version": 3
   },
   "file_extension": ".py",
   "mimetype": "text/x-python",
   "name": "python",
   "nbconvert_exporter": "python",
   "pygments_lexer": "ipython3",
   "version": "3.7.6"
  }
 },
 "nbformat": 4,
 "nbformat_minor": 4
}
