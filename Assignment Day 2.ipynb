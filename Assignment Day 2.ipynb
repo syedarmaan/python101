{
 "cells": [
  {
   "cell_type": "markdown",
   "metadata": {},
   "source": [
    "# Assignment Day 2"
   ]
  },
  {
   "cell_type": "markdown",
   "metadata": {},
   "source": [
    "## Answer (1): functions of the String"
   ]
  },
  {
   "cell_type": "code",
   "execution_count": 1,
   "metadata": {},
   "outputs": [
    {
     "name": "stdout",
     "output_type": "stream",
     "text": [
      "Hello, letstupgraders.\n",
      "HELLO, LETSTUPGRADERS.\n",
      "hello, letstupgraders.\n",
      "HELLO, letsTUPGRADERS.\n",
      "0\n"
     ]
    }
   ],
   "source": [
    "T1 = \"hello, LETStupgraders.\"\n",
    "\n",
    "#1. capitalize()-Upper case the first letter in this sentence.\n",
    "x = T1.capitalize()\n",
    "print (x)\n",
    "\n",
    "#2. upper()-Converts a string into upper case.\n",
    "y=T1.upper()\n",
    "print (y)\n",
    "\n",
    "#3. lower()-Converts a string into lower case.\n",
    "z=T1.lower()\n",
    "print (z)\n",
    "\n",
    "#4. swapcase()-Swaps cases, lower case becomes upper case and vice versa\n",
    "a = T1.swapcase()\n",
    "print(a)\n",
    "\n",
    "#5. find()-Searches the string for a specified value and returns the position of where it was found\n",
    "b = T1.find(\"hello\")\n",
    "print(b)"
   ]
  },
  {
   "cell_type": "markdown",
   "metadata": {},
   "source": [
    "## Answer (2): functions of the List object"
   ]
  },
  {
   "cell_type": "code",
   "execution_count": 2,
   "metadata": {},
   "outputs": [
    {
     "name": "stdout",
     "output_type": "stream",
     "text": [
      "[2, 3, 5, 7, 11, 13]\n",
      "[2, 4, 6, 8, 1, 3, 5, 7]\n",
      "['Carrot', 'Potato', 'Tomato']\n",
      "['Tomato', 'Carrot', 'Potato']\n",
      "['Potato', 'Carrot']\n"
     ]
    }
   ],
   "source": [
    "#1. append()-Adds an element at the end of the list\n",
    "prime_numbers= [2, 3, 5, 7, 11]\n",
    "prime_numbers.append(13)\n",
    "print(prime_numbers)\n",
    "\n",
    "\n",
    "#2. extend()-Add the elements of a list, to the end of the current list\n",
    "numbers_1=[2, 4, 6, 8]\n",
    "numbers_2=[1,3,5,7]\n",
    "numbers_1.extend(numbers_2)\n",
    "print(numbers_1)\n",
    "\n",
    "\n",
    "#3. sort()-Sorts the list\n",
    "Vegetables=['Potato', 'Carrot', 'Tomato']\n",
    "Vegetables.sort()\n",
    "print(Vegetables)\n",
    "\n",
    "\n",
    "#4. reverse()-Reverses the order of the list\n",
    "Vegetables=['Potato', 'Carrot', 'Tomato']\n",
    "Vegetables.reverse()\n",
    "print(Vegetables)\n",
    "\n",
    "\n",
    "#5. pop()-Removes the element at the specified position\n",
    "Vegetables=['Potato', 'Carrot', 'Tomato']\n",
    "Vegetables.pop()\n",
    "print(Vegetables)"
   ]
  },
  {
   "cell_type": "markdown",
   "metadata": {},
   "source": [
    "## Answer (3): default functions of Dictionary"
   ]
  },
  {
   "cell_type": "code",
   "execution_count": 4,
   "metadata": {},
   "outputs": [
    {
     "name": "stdout",
     "output_type": "stream",
     "text": [
      "{}\n",
      "dict_keys(['brand', 'model', 'year'])\n",
      "Mustang\n",
      "dict_items([('brand', 'Ford'), ('model', 'Mustang'), ('year', 1964)])\n",
      "{'brand': 'Ford', 'model': 'Mustang', 'year': 1964, 'color': 'White'}\n"
     ]
    }
   ],
   "source": [
    "#1. clear()-Removes all the elements from the dictionary\n",
    "car = {\"brand\": \"Ford\",\"model\": \"Mustang\",\"year\": 1964}\n",
    "car.clear()\n",
    "print(car)\n",
    "\n",
    "#2. keys()-Returns a list containing the dictionary's keys\n",
    "car = {\"brand\": \"Ford\",\"model\": \"Mustang\",\"year\": 1964}\n",
    "x = car.keys()\n",
    "print(x)\n",
    "\n",
    "#3. get()-Returns the value of the specified key\n",
    "car = {\"brand\": \"Ford\",\"model\": \"Mustang\",\"year\": 1964}\n",
    "x = car.get(\"model\")\n",
    "print(x)\n",
    "\n",
    "#4. items()-Returns a list containing a tuple for each key value pair\n",
    "car = {\"brand\": \"Ford\",\"model\": \"Mustang\",\"year\": 1964}\n",
    "x = car.items()\n",
    "print(x)\n",
    "\n",
    "#5. update()-Updates the dictionary with the specified key-value pairs\n",
    "car = {\"brand\": \"Ford\",\"model\": \"Mustang\",\"year\": 1964}\n",
    "car.update({\"color\": \"White\"})\n",
    "print(car)"
   ]
  },
  {
   "cell_type": "code",
   "execution_count": null,
   "metadata": {},
   "outputs": [],
   "source": []
  }
 ],
 "metadata": {
  "kernelspec": {
   "display_name": "Python 3",
   "language": "python",
   "name": "python3"
  },
  "language_info": {
   "codemirror_mode": {
    "name": "ipython",
    "version": 3
   },
   "file_extension": ".py",
   "mimetype": "text/x-python",
   "name": "python",
   "nbconvert_exporter": "python",
   "pygments_lexer": "ipython3",
   "version": "3.7.6"
  }
 },
 "nbformat": 4,
 "nbformat_minor": 4
}
